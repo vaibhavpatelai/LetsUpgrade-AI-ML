{
 "cells": [
  {
   "cell_type": "markdown",
   "metadata": {},
   "source": [
    "# Assignment Day 6 | 14th July 2020"
   ]
  },
  {
   "cell_type": "markdown",
   "metadata": {},
   "source": [
    "__Question 1:__\n",
    "Assuming that we have some email addresses in the \"username@companyname.com\" format, please write program to print the company name of a given email address. Both user names and company names are composed of letters only.\n",
    "Input Format:\n",
    "The first line of the input contains an email address. Output Format:\n",
    "Print the company name in single line.\n",
    "Example;\n",
    "Input:\n",
    "john@google.com\n",
    "Output:\n",
    "google\n"
   ]
  },
  {
   "cell_type": "code",
   "execution_count": null,
   "metadata": {},
   "outputs": [],
   "source": [
    "#program to trim company name from the email address\n",
    "i = \"vaibhav.patel@circuitwala.com\" #email address as an input\n",
    "l = i[i.find('@')+1:i.rfind('.')] #formula to trim email from front and back to get company name using find and rfind\n",
    "print(\"Company Name: \",l)  #print company name"
   ]
  },
  {
   "cell_type": "markdown",
   "metadata": {},
   "source": [
    "__Question 2:__\n",
    "Write a program that accepts a comma-separated sequence of words as input and prints the words in a comma separated sequence after sorting them alphabetically.\n",
    "\n",
    "Input Format:\n",
    "The first line of input contains words separated by the comma. Output Format:\n",
    "Print the sorted words separated by the comma.\n",
    "Example:\n",
    "Input:\n",
    "without,hello,bag,world\n",
    "Output:\n",
    "bag,hello,without,world"
   ]
  },
  {
   "cell_type": "code",
   "execution_count": null,
   "metadata": {},
   "outputs": [],
   "source": [
    "# program that accepts a comma-separated sequence of words as input and prints the words in a comma separated sequence after sorting them alphabetically.\n",
    "str1 = \"without,hello,bag,world\" #input\n",
    "str1 = sorted(str1.split(',')) #spilliting string by , and sorting it sorted function\n",
    "print(\",\".join(str1)) #using join function joining list into string with , separater"
   ]
  },
  {
   "cell_type": "markdown",
   "metadata": {},
   "source": [
    "__Question 3:__\n",
    "Create your own Jupyter Notebook for Sets.\n",
    "Reference link: https://www.w3schools.com/python/python_sets.asp"
   ]
  },
  {
   "cell_type": "markdown",
   "metadata": {},
   "source": [
    "# Python Sets\n",
    "\n",
    "\n",
    "A set is a collection which is unordered and unindexed. In Python sets are written with curly brackets."
   ]
  },
  {
   "cell_type": "code",
   "execution_count": null,
   "metadata": {},
   "outputs": [],
   "source": [
    "#sample set\n",
    "thisset = {\"apple\", \"banana\", \"cherry\"}\n",
    "print(thisset)"
   ]
  },
  {
   "cell_type": "markdown",
   "metadata": {},
   "source": [
    "__Access Items__\n",
    "\n",
    "\n",
    "You cannot access items in a set by referring to an index, since sets are unordered the items has no index.\n",
    "\n",
    "But you can loop through the set items using a for loop, or ask if a specified value is present in a set, by using the in keyword."
   ]
  },
  {
   "cell_type": "code",
   "execution_count": null,
   "metadata": {},
   "outputs": [],
   "source": [
    "#Loop through the set, and print the values:\n",
    "thisset = {\"apple\", \"banana\", \"cherry\"}\n",
    "\n",
    "for x in thisset:\n",
    "  print(x)"
   ]
  },
  {
   "cell_type": "code",
   "execution_count": null,
   "metadata": {},
   "outputs": [],
   "source": [
    "#Check if \"banana\" is present in the set:\n",
    "thisset = {\"apple\", \"banana\", \"cherry\"}\n",
    "\n",
    "print(\"banana\" in thisset)"
   ]
  },
  {
   "cell_type": "markdown",
   "metadata": {},
   "source": [
    "__Change Items__\n",
    "\n",
    "Once a set is created, you cannot change its items, but you can add new items.\n",
    "\n",
    "__Add Items__\n",
    "\n",
    "To add one item to a set use the add() method.\n",
    "\n",
    "To add more than one item to a set use the update() method."
   ]
  },
  {
   "cell_type": "code",
   "execution_count": null,
   "metadata": {},
   "outputs": [],
   "source": [
    "#Add an item to a set, using the add() method:\n",
    "thisset = {\"apple\", \"banana\", \"cherry\"}\n",
    "\n",
    "thisset.add(\"orange\")\n",
    "\n",
    "print(thisset)"
   ]
  },
  {
   "cell_type": "code",
   "execution_count": null,
   "metadata": {},
   "outputs": [],
   "source": [
    "#Add multiple items to a set, using the update() method:\n",
    "\n",
    "thisset = {\"apple\", \"banana\", \"cherry\"}\n",
    "\n",
    "thisset.update([\"orange\", \"mango\", \"grapes\"])\n",
    "\n",
    "print(thisset)"
   ]
  },
  {
   "cell_type": "markdown",
   "metadata": {},
   "source": [
    "__Get the Length of a Set__\n",
    "\n",
    "To determine how many items a set has, use the len() method."
   ]
  },
  {
   "cell_type": "code",
   "execution_count": null,
   "metadata": {},
   "outputs": [],
   "source": [
    "#Get the number of items in a set:\n",
    "thisset = {\"apple\", \"banana\", \"cherry\"}\n",
    "\n",
    "print(len(thisset))"
   ]
  },
  {
   "cell_type": "markdown",
   "metadata": {},
   "source": [
    "__Remove Item__\n",
    "\n",
    "To remove an item in a set, use the remove(), or the discard() method."
   ]
  },
  {
   "cell_type": "code",
   "execution_count": null,
   "metadata": {},
   "outputs": [],
   "source": [
    "#Remove \"banana\" by using the remove() method:\n",
    "thisset = {\"apple\", \"banana\", \"cherry\"}\n",
    "\n",
    "thisset.remove(\"banana\")\n",
    "\n",
    "print(thisset)"
   ]
  },
  {
   "cell_type": "markdown",
   "metadata": {},
   "source": [
    "Note: If the item to remove does not exist, remove() will raise an error."
   ]
  },
  {
   "cell_type": "code",
   "execution_count": null,
   "metadata": {},
   "outputs": [],
   "source": [
    "#Remove \"banana\" by using the discard() method:\n",
    "thisset = {\"apple\", \"banana\", \"cherry\"}\n",
    "thisset.discard(\"banana\")\n",
    "print(thisset)"
   ]
  },
  {
   "cell_type": "markdown",
   "metadata": {},
   "source": [
    "Note: If the item to remove does not exist, discard() will NOT raise an error."
   ]
  },
  {
   "cell_type": "markdown",
   "metadata": {},
   "source": [
    "You can also use the pop(), method to remove an item, but this method will remove the last item. Remember that sets are unordered, so you will not know what item that gets removed.\n",
    "\n",
    "The return value of the pop() method is the removed item."
   ]
  },
  {
   "cell_type": "code",
   "execution_count": null,
   "metadata": {},
   "outputs": [],
   "source": [
    "#Remove the item by using the pop() method:\n",
    "thisset = {\"apple\", \"banana\", \"cherry\"}\n",
    "x = thisset.pop()\n",
    "print(x)\n",
    "print(thisset)"
   ]
  },
  {
   "cell_type": "markdown",
   "metadata": {},
   "source": [
    "Note: Sets are unordered, so when using the pop() method, you will not know which item that gets removed."
   ]
  },
  {
   "cell_type": "markdown",
   "metadata": {},
   "source": [
    "__Join Two Sets__\n",
    "\n",
    "There are several ways to join two or more sets in Python.\n",
    "\n",
    "You can use the union() method that returns a new set containing all items from both sets, or the update() method that inserts all the items from one set into another:"
   ]
  },
  {
   "cell_type": "code",
   "execution_count": null,
   "metadata": {},
   "outputs": [],
   "source": [
    "#The union() method returns a new set with all items from both sets:\n",
    "set1 = {\"a\", \"b\" , \"c\"}\n",
    "set2 = {1, 2, 3}\n",
    "\n",
    "set3 = set1.union(set2)\n",
    "print(set3)"
   ]
  },
  {
   "cell_type": "code",
   "execution_count": null,
   "metadata": {},
   "outputs": [],
   "source": [
    "#The update() method inserts the items in set2 into set1:\n",
    "set1 = {\"a\", \"b\" , \"c\"}\n",
    "set2 = {1, 2, 3}\n",
    "\n",
    "set1.update(set2)\n",
    "print(set1)"
   ]
  },
  {
   "cell_type": "markdown",
   "metadata": {},
   "source": [
    "Note: Both union() and update() will exclude any duplicate items.\n",
    "\n",
    "There are other methods that joins two sets and keeps ONLY the duplicates, or NEVER the duplicates, check the full list of set methods in the bottom of this page."
   ]
  },
  {
   "cell_type": "markdown",
   "metadata": {},
   "source": [
    "__The set() Constructor__\n",
    "\n",
    "It is also possible to use the set() constructor to make a set."
   ]
  },
  {
   "cell_type": "code",
   "execution_count": null,
   "metadata": {},
   "outputs": [],
   "source": [
    "#Using the set() constructor to make a set:\n",
    "thisset = set((\"apple\", \"banana\", \"cherry\")) # note the double round-brackets\n",
    "print(thisset)"
   ]
  },
  {
   "cell_type": "markdown",
   "metadata": {},
   "source": [
    "__Question 4:__\n",
    "\n",
    "Given a list of n-1 numbers ranging from 1 to n, your task is to find the missing number. There are no duplicates.\n",
    "Input Format:\n",
    "The first line contains n-1 numbers with each number separated by a space. Output Format:\n",
    "Print the missing number\n",
    "\n",
    "Example:\n",
    "\n",
    "Input:1 2 4 6 3 7 8\n",
    "\n",
    "Output:5\n",
    "Explanation:\n",
    "In the above list of numbers 5 is missing and hence 5 is the input\n"
   ]
  },
  {
   "cell_type": "code",
   "execution_count": null,
   "metadata": {},
   "outputs": [],
   "source": [
    "#program to find missing values form sequence\n",
    "i = \"1 2 3 4 6 8 10\" #give input values \n",
    "print(\"Input:\",i) #printing the input values\n",
    "m = (i.split(\" \")) #spliting and making the soritng list\n",
    "j = int(m[-1]) #getting length od the list\n",
    "for k in range(1,j+1): #loop to  get list without missing values\n",
    "    k = str(k) #converting it into string for comparision\n",
    "    if k not in i: #checking for the missing value by condition\n",
    "        print(k,end=\" \") #printing missing values"
   ]
  },
  {
   "cell_type": "markdown",
   "metadata": {},
   "source": [
    "__Question 5:__\n",
    "    \n",
    "With a given list L, write a program to print this list L after removing all duplicate values with original order reserved.\n",
    "\n",
    "Example:\n",
    "If the input list is\n",
    "12 24 35 24 88 120 155 88 120 155\n",
    "Then the output should be 12 24 35 88 120 155\n",
    "\n",
    "Explanation:\n",
    "Third, seventh and ninth element of the list L has been removed because it was already present. Input Format:\n",
    "In one line take the elements of the list L with each element separated by a space.\n",
    "\n",
    "Output Format:\n",
    "Print the elements of the modified list in one line with each element separated by a space. Example:\n",
    "\n",
    "Input: 12 24 35 24\n",
    "\n",
    "Output:\n",
    "12 24 35"
   ]
  },
  {
   "cell_type": "code",
   "execution_count": null,
   "metadata": {},
   "outputs": [],
   "source": [
    "#program to remove duplicated from the sequence\n",
    "l = \"12 24 35 24 88 120 155 88 120 155\" #input values\n",
    "print(\"Input: \",l) #printing the input values\n",
    "l = l.split(\" \") #splinting the values to generate the list\n",
    "result = [] #creating empty list to store the elements after comparision\n",
    "for i in l: #loop to compare all the elements one by one \n",
    "    if i not in result: #comparing the result to remove duplicate values\n",
    "        result.append(i) #generatiing the list\n",
    "print(\"Output: \",\" \".join(result)) #printing the final result"
   ]
  }
 ],
 "metadata": {
  "kernelspec": {
   "display_name": "Python 3",
   "language": "python",
   "name": "python3"
  },
  "language_info": {
   "codemirror_mode": {
    "name": "ipython",
    "version": 3
   },
   "file_extension": ".py",
   "mimetype": "text/x-python",
   "name": "python",
   "nbconvert_exporter": "python",
   "pygments_lexer": "ipython3",
   "version": "3.7.6"
  }
 },
 "nbformat": 4,
 "nbformat_minor": 4
}

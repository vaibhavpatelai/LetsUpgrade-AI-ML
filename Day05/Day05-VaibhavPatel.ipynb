{
 "cells": [
  {
   "cell_type": "markdown",
   "metadata": {},
   "source": [
    "# Assignment Day 5 | 10th July 2020"
   ]
  },
  {
   "cell_type": "markdown",
   "metadata": {},
   "source": [
    "__Question 1 :__\n",
    "Write a Python program to find the first 20 non-even prime natural numbers.\n"
   ]
  },
  {
   "cell_type": "code",
   "execution_count": null,
   "metadata": {},
   "outputs": [],
   "source": [
    "#program to find first 20 non-even prime numbers\n",
    "j= 0 #counter to get first 20 non-even prime\n",
    "print(\"First 20 non-even prime numbers:\")\n",
    "for num in range(1,100): #main for loop to define range of numbers\n",
    "    if num > 2: #condition to escape 2, as 2 is the only odd prime number\n",
    "        for i in range(2,num): #for loop to find num is divisible by self and 2\n",
    "            if (num % i) == 0: #condition to fins number is not prime\n",
    "                break\n",
    "        else: \n",
    "            print(num,end=\", \") #print the only number which is passed from above condition and it is prime\n",
    "            j = j + 1 #incremental counter for count number of prime numbers\n",
    "            if j >=20: #comdition to get first 20 non-even prime numbers only \n",
    "                break"
   ]
  },
  {
   "cell_type": "markdown",
   "metadata": {},
   "source": [
    "__Question 2 :__\n",
    "Write a Python program to implement 15 functions of string.\n",
    "\n",
    "    \n",
    "    \n",
    "            "
   ]
  },
  {
   "cell_type": "code",
   "execution_count": null,
   "metadata": {},
   "outputs": [],
   "source": [
    "#program to implement string methods\n",
    "x = \"Vaibhav Patel\" \n",
    "txt = x.capitalize() #capitalize the first character of string\n",
    "print(txt)\n",
    "\n",
    "txt = x.casefold() #Converts string into lower case\n",
    "print(txt)\n",
    "\n",
    "txt = x.center(50) #moves string to center from the left\n",
    "print(txt)\n",
    "\n",
    "txt = x.count('V') #number of times a specified value occurs in a string, case sensitive\n",
    "print(txt)\n",
    "\n",
    "txt = x.encode() #encoded version of the string, default UTF-8\n",
    "print(txt)\n",
    "\n",
    "txt = x.endswith(\"l\") #Return True if the string ends with the specified suffix, otherwise return False.\n",
    "print(txt)\n",
    "\n",
    "x = \"Vaibhav\\tPatel\" \n",
    "txt = x.expandtabs(5) #Sets the tab size of the string\n",
    "print(txt)\n",
    "\n",
    "x = \"Vaibhav Patel\" \n",
    "txt = x.find('P') #Searches the string for a specified value and returns the position of where it was found\n",
    "print(txt)\n",
    "\n",
    "x = \"Vaibhav Patel\" \n",
    "txt = x.index('P') #Searches the string for a specified value and returns the position of where it was found\n",
    "print(txt)\n",
    "\n",
    "x = \"Vaibhav Patel {y}\" \n",
    "txt = x.format(y ='is a great') #Formats specified values in a string\n",
    "print(txt)\n",
    "\n",
    "x = \"Vaibhav12\" \n",
    "txt = x.isalnum() #Returns True if all characters in the string are alphanumeric\n",
    "print(txt)\n",
    "\n",
    "x = \"Vaibhav12\" \n",
    "txt = x.isalpha() #Returns True if all characters in the string are in the alphabet\n",
    "print(txt)\n",
    "\n",
    "x = \"12\" \n",
    "txt = x.isdigit() #Returns True if all characters in the string are in the digit\n",
    "print(txt)\n",
    "\n",
    "x = \"vaibhav\" \n",
    "txt = x.islower() #Returns True if all characters in the string are lower\n",
    "print(txt)\n",
    "\n",
    "x = \" \" \n",
    "txt = x.isspace() #Returns True if all characters in the string are whitespaces\n",
    "print(txt)\n",
    "\n",
    "x = \"Vaibhav is a great\" \n",
    "txt = x.replace(' ','') #Returns True if all characters in the string are whitespaces\n",
    "print(txt)"
   ]
  },
  {
   "cell_type": "markdown",
   "metadata": {},
   "source": [
    "__Question 3:__\n",
    "Write a Python program to check if the given string is a Palindrome or Anagram or None of them. Display the message accordingly to the user."
   ]
  },
  {
   "cell_type": "code",
   "execution_count": null,
   "metadata": {},
   "outputs": [],
   "source": [
    "#program to find given string is Palindrome or Anagram or None\n",
    "x = input(\"Enter String:\") \n",
    "y = x[::-1]\n",
    "if x == y:\n",
    "    print(\"Given string is Palindrome\")\n",
    "elif sorted(x) == sorted(y):\n",
    "    print(\"Given string is Anagram\")\n",
    "else:\n",
    "    print(\"None\")"
   ]
  },
  {
   "cell_type": "markdown",
   "metadata": {},
   "source": [
    "__Question 4:__\n",
    "Write a Python's user defined function that removes all the additional characters from the string and converts it finally to lower case using built-in lower(). eg: If the string is \"Dr. Darshan Ingle @AI-ML Trainer\", then the output be \"drdarshaningleaimltrainer\"."
   ]
  },
  {
   "cell_type": "code",
   "execution_count": null,
   "metadata": {},
   "outputs": [],
   "source": [
    "#program to removes special character from strin and convert it into lower case\n",
    "def remove_specialchar_lowerstr(str): #user define function to remove special character from strin and convert it into lower case\n",
    "    newstr = \"\" #defined new blank string to assign value of new string\n",
    "\n",
    "    for i in str: #for loop to read each character of the string\n",
    "        if i.isalnum(): #condition to check given string is alpha numeric or not\n",
    "            newstr = newstr + i #store each character into new string after check\n",
    "            newstr = newstr.casefold() #converting string into lower string\n",
    "    print(newstr) #printing value of new string after operations\n",
    "\n",
    "#defning the string and calling the function\n",
    "str = \"Dr. Darshan Ingle @AI-ML Trainer\"\n",
    "remove_specialchar_lowerstr(str) #function call"
   ]
  }
 ],
 "metadata": {
  "kernelspec": {
   "display_name": "Python 3",
   "language": "python",
   "name": "python3"
  },
  "language_info": {
   "codemirror_mode": {
    "name": "ipython",
    "version": 3
   },
   "file_extension": ".py",
   "mimetype": "text/x-python",
   "name": "python",
   "nbconvert_exporter": "python",
   "pygments_lexer": "ipython3",
   "version": "3.7.6"
  }
 },
 "nbformat": 4,
 "nbformat_minor": 4
}

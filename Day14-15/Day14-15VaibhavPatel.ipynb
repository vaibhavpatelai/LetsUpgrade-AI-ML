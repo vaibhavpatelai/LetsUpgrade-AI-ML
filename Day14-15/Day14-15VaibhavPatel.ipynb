{
 "cells": [
  {
   "cell_type": "markdown",
   "metadata": {},
   "source": [
    "# Assignment Day 4 | 9th July 2020"
   ]
  },
  {
   "cell_type": "markdown",
   "metadata": {},
   "source": [
    "### __Question-1__ Create a 3x3x3 array with random values"
   ]
  },
  {
   "cell_type": "code",
   "execution_count": 61,
   "metadata": {},
   "outputs": [
    {
     "name": "stdout",
     "output_type": "stream",
     "text": [
      "[[[0.93068282 0.56700522 0.24265174]\n",
      "  [0.35306087 0.31099502 0.57820169]\n",
      "  [0.03823979 0.40651805 0.15481966]]\n",
      "\n",
      " [[0.71048845 0.76726831 0.33058035]\n",
      "  [0.05374502 0.20210811 0.02497793]\n",
      "  [0.05649288 0.38758992 0.27180765]]\n",
      "\n",
      " [[0.4932047  0.90380398 0.42675775]\n",
      "  [0.76682242 0.73674103 0.35581069]\n",
      "  [0.9004335  0.5194338  0.40096727]]]\n"
     ]
    }
   ],
   "source": [
    "import numpy as np #import numpy library\n",
    "#program to create a 3x3x3 array with random values\n",
    "arr = np.random.random((3,3,3)) #creating 3x3x3 array using random function\n",
    "print(arr) #printing the array"
   ]
  },
  {
   "cell_type": "markdown",
   "metadata": {},
   "source": [
    "### __Question-2__ Create a 5x5 matrix with values 1,2,3,4,5 just below the diagonal"
   ]
  },
  {
   "cell_type": "code",
   "execution_count": 62,
   "metadata": {},
   "outputs": [
    {
     "name": "stdout",
     "output_type": "stream",
     "text": [
      "[[1 0 0 0 0]\n",
      " [0 2 0 0 0]\n",
      " [0 0 3 0 0]\n",
      " [0 0 0 4 0]\n",
      " [0 0 0 0 5]]\n"
     ]
    }
   ],
   "source": [
    "#program to create a 5x5 matrix with values 1,2,3,4,5 just below the diagonal\n",
    "arr = np.diag([1,2,3,4,5]) #creating matrix with given diagonal\n",
    "print(arr) #priting the matrix"
   ]
  },
  {
   "cell_type": "markdown",
   "metadata": {},
   "source": [
    "### Question-3 Create a 8x8 matrix and fill it with a checkerboard pattern"
   ]
  },
  {
   "cell_type": "code",
   "execution_count": 64,
   "metadata": {},
   "outputs": [
    {
     "name": "stdout",
     "output_type": "stream",
     "text": [
      "[[0 1 0 1 0 1 0 1]\n",
      " [1 0 1 0 1 0 1 0]\n",
      " [0 1 0 1 0 1 0 1]\n",
      " [1 0 1 0 1 0 1 0]\n",
      " [0 1 0 1 0 1 0 1]\n",
      " [1 0 1 0 1 0 1 0]\n",
      " [0 1 0 1 0 1 0 1]\n",
      " [1 0 1 0 1 0 1 0]]\n"
     ]
    }
   ],
   "source": [
    "#program to create a 8x8 matrix and fill it with a checkerboard pattern\n",
    "arr = np.zeros((8,8),dtype=int) #creating the 8x8 array with zeros\n",
    "arr[1::2,::2] = 1 #replacing zero with 1 from 1st,3rd,5th and 7th row with space of 2\n",
    "arr[::2,1::2] = 1 #replacing zero with 1 from 0th,2nd,4th and 6th row with starting space of 2\n",
    "print(arr) #printing the matrix"
   ]
  },
  {
   "cell_type": "markdown",
   "metadata": {},
   "source": [
    "### Question-4 Normalize a 5x5 random matrix"
   ]
  },
  {
   "cell_type": "code",
   "execution_count": 73,
   "metadata": {},
   "outputs": [
    {
     "name": "stdout",
     "output_type": "stream",
     "text": [
      "Original Matrix:\n",
      " [[0.88692339 0.68646105 0.82172156 0.60581965 0.30695246]\n",
      " [0.9612937  0.76229028 0.71976604 0.93027382 0.718546  ]\n",
      " [0.39609424 0.72874016 0.97995226 0.14416159 0.47117765]\n",
      " [0.27561274 0.58539265 0.38450642 0.01051692 0.15131719]\n",
      " [0.92632608 0.45611235 0.45680476 0.03474634 0.84437737]]\n",
      "\n",
      "After Normlize:\n",
      " [[0.90403809 0.69725551 0.83678055 0.61407162 0.30578165]\n",
      " [0.98075317 0.77547551 0.73161055 0.94875529 0.73035204]\n",
      " [0.39773392 0.7408676  1.         0.13785826 0.47518459]\n",
      " [0.27345385 0.59300059 0.38578076 0.         0.14523947]\n",
      " [0.94468308 0.45964431 0.46035855 0.02499333 0.86015067]]\n"
     ]
    }
   ],
   "source": [
    "#program to normalize a 5x5 random matrix\n",
    "arr = np.random.random((5,5))#creating matrix using random function\n",
    "print(\"Original Matrix:\\n\",arr) #printig the original matorix \n",
    "arrmin, arrmax = arr.min(),arr.max() #finding the min and max\n",
    "arr = (arr-arrmin)/(arrmax-arrmin) #operation to make matrix normalized\n",
    "print(\"\\nAfter Normlize:\\n\",arr) #printing the normlize matrix"
   ]
  },
  {
   "cell_type": "markdown",
   "metadata": {},
   "source": [
    "### Question-5 How to find common values between two arrays?"
   ]
  },
  {
   "cell_type": "code",
   "execution_count": 74,
   "metadata": {},
   "outputs": [
    {
     "name": "stdout",
     "output_type": "stream",
     "text": [
      "Original Array 1:\n",
      " [10 30 50 60 70]\n",
      "\n",
      "Original Array 2:\n",
      " [10 50 70]\n",
      "\n",
      "Common Values:\n",
      " [10 50 70]\n"
     ]
    }
   ],
   "source": [
    "#program to find common values between two arrays\n",
    "arr1 = np.array([10,30,50,60,70]) #creating an array\n",
    "arr2 = np.array([10,50,70]) #areating an array\n",
    "print(\"Original Array 1:\\n\",arr1) #printing the array\n",
    "print(\"\\nOriginal Array 2:\\n\",arr2) #printing the array2\n",
    "arr3 = np.intersect1d(arr1,arr2) #finding the common value using intersect\n",
    "print(\"\\nCommon Values:\\n\",arr3) #printing the array woth comoon values"
   ]
  },
  {
   "cell_type": "markdown",
   "metadata": {},
   "source": [
    "### Question-6 How to get the dates of yesterday, today and tomorrow?"
   ]
  },
  {
   "cell_type": "code",
   "execution_count": 75,
   "metadata": {},
   "outputs": [
    {
     "name": "stdout",
     "output_type": "stream",
     "text": [
      "Yestraday:  2020-07-27\n",
      "Today:  2020-07-28\n",
      "Tomorrow:  2020-07-29\n"
     ]
    }
   ],
   "source": [
    "yesterday = np.datetime64('today') - 1 #get yesterday date using datetime64 function\n",
    "print(\"Yestraday: \",yesterday) #printing yesterday's date\n",
    "today     = np.datetime64('today') #get today daye using datetime64 function\n",
    "print(\"Today: \",today) #printing today's date\n",
    "tomorrow  = np.datetime64('today') + 1 #get tomorrow's date using datetime64 function\n",
    "print(\"Tomorrow: \",tomorrow) #printing tomorrow's date"
   ]
  },
  {
   "cell_type": "markdown",
   "metadata": {},
   "source": [
    "### Question-7 Consider two random array A and B, check if they are equal"
   ]
  },
  {
   "cell_type": "code",
   "execution_count": 76,
   "metadata": {},
   "outputs": [
    {
     "name": "stdout",
     "output_type": "stream",
     "text": [
      "Both arrays are equal or not: False\n"
     ]
    }
   ],
   "source": [
    "arr = np.random.random((3,3)) #creating random array\n",
    "arr2 = np.random.random((3,3)) #creating random array \n",
    "result = np.allclose(arr,arr2) #comparing the two random arrays using allclose method\n",
    "print(\"Both arrays are equal or not:\",result) #printing the reslt after comparision"
   ]
  },
  {
   "cell_type": "markdown",
   "metadata": {},
   "source": [
    "### Question-8 Create random vector of size 10 and replace the maximum value by 0"
   ]
  },
  {
   "cell_type": "code",
   "execution_count": 58,
   "metadata": {},
   "outputs": [
    {
     "name": "stdout",
     "output_type": "stream",
     "text": [
      "Original Array:\n",
      "[0.8258998  0.49962685 0.21991589 0.49281146 0.0720348  0.66227321\n",
      " 0.67886303 0.02269101 0.57446245 0.26247225] \n",
      "\n",
      "After maximum value changed by 0\n",
      "[0.         0.49962685 0.21991589 0.49281146 0.0720348  0.66227321\n",
      " 0.67886303 0.02269101 0.57446245 0.26247225]\n"
     ]
    }
   ],
   "source": [
    "arr = np.random.random(10) #creating random vector size 10\n",
    "print(\"Original Array:\") \n",
    "print(arr,\"\\n\") #printing the original array\n",
    "arr[arr.argmax()] = 0 #replacing the maximum value by 0\n",
    "print(\"After maximum value changed by 0\")\n",
    "print(arr) #printing the array after changing the value"
   ]
  },
  {
   "cell_type": "markdown",
   "metadata": {},
   "source": [
    "### Question-9 How to print all the values of an array?"
   ]
  },
  {
   "cell_type": "code",
   "execution_count": 77,
   "metadata": {},
   "outputs": [
    {
     "name": "stdout",
     "output_type": "stream",
     "text": [
      "All the values of an Array:\n",
      " [[0.54825685 0.94192268 0.32456434]\n",
      " [0.24420498 0.02707245 0.52616353]\n",
      " [0.33083088 0.89239435 0.02139   ]]\n"
     ]
    }
   ],
   "source": [
    "arr = np.random.random((3,3)) #creating the random array\n",
    "print(\"All the values of an Array:\\n\",arr) #printing all the values of array"
   ]
  },
  {
   "cell_type": "markdown",
   "metadata": {},
   "source": [
    "### Question-10 Subtract the mean of each row of a matrix"
   ]
  },
  {
   "cell_type": "code",
   "execution_count": 80,
   "metadata": {},
   "outputs": [
    {
     "name": "stdout",
     "output_type": "stream",
     "text": [
      "Original matrix:\n",
      "[[0.53091037 0.29847875 0.07117223]\n",
      " [0.46287093 0.48758332 0.92847188]\n",
      " [0.92170552 0.74041655 0.78766973]]\n",
      "\n",
      "Subtract the mean of each row of matrix:\n",
      "[[-0.05012066 -0.28255228 -0.5098588 ]\n",
      " [-0.1181601  -0.09344772  0.34744085]\n",
      " [ 0.34067449  0.15938552  0.20663869]]\n"
     ]
    }
   ],
   "source": [
    "print(\"Original matrix:\")\n",
    "arr = np.random.rand(3,3) #creating random matrix\n",
    "print(arr) #printing the original matrix\n",
    "print(\"\\nSubtract the mean of each row of matrix:\") #\n",
    "arr1 = arr - arr.mean() #subtracting mean value with original value\n",
    "print(arr1) #printing the array after opration"
   ]
  },
  {
   "cell_type": "markdown",
   "metadata": {},
   "source": [
    "### Question-11 Consider a given vector, how to add 1 to each element indexed by a second vector (be careful with repeated indices)?"
   ]
  },
  {
   "cell_type": "code",
   "execution_count": 81,
   "metadata": {},
   "outputs": [
    {
     "name": "stdout",
     "output_type": "stream",
     "text": [
      "[2 4 6 8]\n"
     ]
    }
   ],
   "source": [
    "arr = np.array([1,2,3,4]) + np.array([1,2,3,4]) #adding the two vector\n",
    "print(arr) #priting the result after adding"
   ]
  },
  {
   "cell_type": "markdown",
   "metadata": {},
   "source": [
    "### Question-12 How to get the diagonal of a dot product?"
   ]
  },
  {
   "cell_type": "code",
   "execution_count": 83,
   "metadata": {},
   "outputs": [
    {
     "name": "stdout",
     "output_type": "stream",
     "text": [
      "Original Array1:\n",
      " [[1 2]\n",
      " [3 4]]\n",
      "\n",
      "Original Array2:\n",
      " [[11 12]\n",
      " [13 14]]\n",
      "\n",
      "Array after dot opertaion:\n",
      " 5\n",
      "\n",
      "Diagnoal of the dot array of Array1 and Array2:\n",
      " [37 92]\n"
     ]
    }
   ],
   "source": [
    "arr = np.array([[1,2],[3,4]])  #creating the 2-D array\n",
    "print(\"Original Array1:\\n\",arr) #printing the array\n",
    "arr1 = np.array([[11,12],[13,14]]) #creating the 2-D array\n",
    "print(\"\\nOriginal Array2:\\n\",b) #printng the array\n",
    "dotab = np.dot(a,b) #applying dot on the two matrix\n",
    "print(\"\\nArray after dot opertaion:\\n\",x) #prinitng result after dot operation \n",
    "print(\"\\nDiagnoal of the dot array of Array1 and Array2:\\n\",np.diagonal(dotab)) #printing the diagonal of dot matrix"
   ]
  },
  {
   "cell_type": "markdown",
   "metadata": {},
   "source": [
    "### Question-13 How to find the most frequent value in an array?"
   ]
  },
  {
   "cell_type": "code",
   "execution_count": 86,
   "metadata": {},
   "outputs": [
    {
     "name": "stdout",
     "output_type": "stream",
     "text": [
      "Original Array:\n",
      " [1 5 0 7 0 2]\n",
      "0\n"
     ]
    }
   ],
   "source": [
    "arr = np.random.randint(0,10,6) #creating random array\n",
    "print(\"Original Array:\\n\",arr) #printing the original array\n",
    "mostfrq = np.bincount(arr).argmax() #getting the most frequent value for the array\n",
    "print(mostfrq) #printing the most frequent value of the array"
   ]
  },
  {
   "cell_type": "markdown",
   "metadata": {},
   "source": [
    "### Question-14 How to get the n largest values of an array"
   ]
  },
  {
   "cell_type": "code",
   "execution_count": 88,
   "metadata": {},
   "outputs": [
    {
     "name": "stdout",
     "output_type": "stream",
     "text": [
      "Original Array:\n",
      " [[7 0 8]\n",
      " [2 1 7]\n",
      " [6 3 8]]\n",
      "8\n"
     ]
    }
   ],
   "source": [
    "arr = np.random.randint(0,10,size=(3,3)) #creating the random array\n",
    "print(\"Original Array:\\n\",arr) #printing the original array\n",
    "print(arr.max()) #prinitng the max value out of it"
   ]
  },
  {
   "cell_type": "markdown",
   "metadata": {},
   "source": [
    "### Question-15 How to create a record array from a regular array?"
   ]
  },
  {
   "cell_type": "code",
   "execution_count": 98,
   "metadata": {},
   "outputs": [
    {
     "name": "stdout",
     "output_type": "stream",
     "text": [
      "Original array:\n",
      " [['Vaibhav Patel' '88.5' '90']\n",
      " ['Pankil Desai' '87' '99']\n",
      " ['Rachit Jain' '85.5' '91']]\n",
      "\n",
      "Record array:\n",
      "[(b'Vaibhav Patel', 88.5, 90) (b'Pankil Desai', 87. , 99)\n",
      " (b'Rachit Jain', 85.5, 91)]\n"
     ]
    }
   ],
   "source": [
    "arra1 = np.array([(\"Vaibhav Patel\", 88.5, 90),\n",
    "                 (\"Pankil Desai\", 87, 99),\n",
    "             (\"Rachit Jain\", 85.5, 91)]) #creating regular array\n",
    "print(\"Original array:\\n\",arra1) # printing the original array \n",
    "\n",
    "print(\"\\nRecord array:\")\n",
    "result = np.core.records.fromarrays(arra1.T,\n",
    "                              names='col1, col2, col3',\n",
    "                              formats = 'S80, f8, i8') #creating the record array\n",
    "print(result) #priting the result"
   ]
  }
 ],
 "metadata": {
  "kernelspec": {
   "display_name": "Python 3",
   "language": "python",
   "name": "python3"
  },
  "language_info": {
   "codemirror_mode": {
    "name": "ipython",
    "version": 3
   },
   "file_extension": ".py",
   "mimetype": "text/x-python",
   "name": "python",
   "nbconvert_exporter": "python",
   "pygments_lexer": "ipython3",
   "version": "3.7.6"
  }
 },
 "nbformat": 4,
 "nbformat_minor": 4
}

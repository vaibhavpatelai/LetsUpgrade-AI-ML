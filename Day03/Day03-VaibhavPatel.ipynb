{
 "cells": [
  {
   "cell_type": "markdown",
   "metadata": {},
   "source": [
    "# Assignment Day 3 | 8th July 2020 - Vaibhav Patel"
   ]
  },
  {
   "cell_type": "markdown",
   "metadata": {},
   "source": [
    "__Question 1:__\n",
    "Write a program to subtract two complex numbers in Python."
   ]
  },
  {
   "cell_type": "code",
   "execution_count": 1,
   "metadata": {},
   "outputs": [
    {
     "name": "stdout",
     "output_type": "stream",
     "text": [
      "(2+1j)\n"
     ]
    }
   ],
   "source": [
    "#program to subtract two complex numbers:\n",
    "a = 5+6j #complex number value assigned to variable a\n",
    "b = 3+5j #complex number value assigned to variable b\n",
    "c = a-b #operation to subtract the complex and assigned to variable c\n",
    "print(c) #print the subtract complex number"
   ]
  },
  {
   "cell_type": "markdown",
   "metadata": {},
   "source": [
    "__Question 2 :__\n",
    "Write a program to find the fourth root of a number.\n"
   ]
  },
  {
   "cell_type": "code",
   "execution_count": 19,
   "metadata": {},
   "outputs": [
    {
     "name": "stdout",
     "output_type": "stream",
     "text": [
      "2.0\n"
     ]
    }
   ],
   "source": [
    "#program to get fourth root of a number\n",
    "x = 16 #assigned value to variable x\n",
    "x = x**0.25 #operation to get fourth root\n",
    "print(x) #printing the result"
   ]
  },
  {
   "cell_type": "markdown",
   "metadata": {},
   "source": [
    "__Question 3:__\n",
    "Write a program to swap two numbers in Python with the help of a temporary variable."
   ]
  },
  {
   "cell_type": "code",
   "execution_count": 24,
   "metadata": {},
   "outputs": [
    {
     "name": "stdout",
     "output_type": "stream",
     "text": [
      "p =  5 \n",
      " q =  2\n"
     ]
    }
   ],
   "source": [
    "#program to swap two numbers with help of temporary variable\n",
    "p = 2\n",
    "q = 5\n",
    "\n",
    "#swaping method\n",
    "temp = p #assigning value of variable to temporary variable\n",
    "p = q #assigning value of variable q to variabel p\n",
    "q = temp #assigning variable temp value to variable q\n",
    "\n",
    "print(\"p = \",p,'\\n',\"q = \",q) #print two variables p and q after swaping"
   ]
  },
  {
   "cell_type": "markdown",
   "metadata": {},
   "source": [
    "__Question 5:__\n",
    "Write a program to convert fahrenheit to kelvin and celsius both."
   ]
  },
  {
   "cell_type": "code",
   "execution_count": 10,
   "metadata": {},
   "outputs": [
    {
     "name": "stdout",
     "output_type": "stream",
     "text": [
      "Kelvin: 273.15\n",
      "Celsius: 0.0\n"
     ]
    }
   ],
   "source": [
    "#program to convert fahrenheit to kelvin and celsius both\n",
    "x = 32\n",
    "\n",
    "# formula to convert fahrenhit to kelvin\n",
    "y = (x - 32.0) * 5/9 + 273.15\n",
    "print(\"Kelvin:\",y) #printing value of temperature in kelvin\n",
    "\n",
    "# formula to convert fahrenhit to celsius\n",
    "y = (x - 32.0) * 5/9\n",
    "print(\"Celsius:\",y) #printing value of temperature in celsius"
   ]
  },
  {
   "cell_type": "markdown",
   "metadata": {},
   "source": [
    "__Question 6:__\n",
    "Write a program to demonstrate all the available data types in Python. Hint: Use type() function."
   ]
  },
  {
   "cell_type": "code",
   "execution_count": 4,
   "metadata": {},
   "outputs": [
    {
     "name": "stdout",
     "output_type": "stream",
     "text": [
      "Numeric Datatype:\n",
      "For x = 1, x is  <class 'int'>\n",
      "For x = 1.5, x is  <class 'float'>\n",
      "For x = 1j, x is  <class 'complex'>\n",
      "\n",
      "Text Datatype\n",
      "For x = Vaibhav, x is  <class 'str'>\n",
      "\n",
      "Sequence Datatype\n",
      "For x = [], x is  <class 'list'>\n",
      "For x = (), x is  <class 'tuple'>\n",
      "\n",
      "Mapping Datatype\n",
      "For x = {:}, x is  <class 'dict'>\n",
      "\n",
      "Set Datatype\n",
      "For x = {}, x is  <class 'dict'>\n",
      "\n",
      "Boolean Datatype\n",
      "For x = True, x is  <class 'bool'>\n"
     ]
    }
   ],
   "source": [
    "#program to demonstrate all the available data types in Python\n",
    "\n",
    "#numeric datatype\n",
    "print(\"Numeric Datatype:\")\n",
    "x = 1 #integer\n",
    "print(\"For x = 1, x is \",type(x))\n",
    "\n",
    "x = 1.5 #float\n",
    "print(\"For x = 1.5, x is \",type(x))\n",
    "\n",
    "x = 1j #complex\n",
    "print(\"For x = 1j, x is \",type(x))\n",
    "\n",
    "#text datatype\n",
    "print(\"\\nText Datatype\")\n",
    "x = \"Vaibhav\" #string\n",
    "print(\"For x = Vaibhav, x is \",type(x))\n",
    "\n",
    "#sequence datatype\n",
    "print(\"\\nSequence Datatype\")\n",
    "x = [\"apple\", \"banana\", \"cherry\"] #list\n",
    "print(\"For x = [], x is \",type(x))\n",
    "x = (\"apple\", \"banana\", \"cherry\") #tuple\n",
    "print(\"For x = (), x is \",type(x))\n",
    "\n",
    "#mapping datatype\n",
    "print(\"\\nMapping Datatype\")\n",
    "x = {\"name\" : \"Vaibhav\", \"age\" : 33} #dictionary\n",
    "print(\"For x = {:}, x is \",type(x))\n",
    "\n",
    "#Set datatype\n",
    "print(\"\\nSet Datatype\")\n",
    "x = {\"name\" : \"Vaibhav\", \"age\" : 33} #set\n",
    "print(\"For x = {}, x is \",type(x))\n",
    "\n",
    "#Boolean Datatype\n",
    "print(\"\\nBoolean Datatype\")\n",
    "x = True\n",
    "print(\"For x = True, x is \",type(x))\n"
   ]
  },
  {
   "cell_type": "markdown",
   "metadata": {},
   "source": [
    "__Question 7:__\n",
    "Create a Markdown cell in jupyter and list the steps discussed in the session by Dr. Darshan Ingle sir to create Github profile and upload Githubs Assignment link."
   ]
  },
  {
   "cell_type": "markdown",
   "metadata": {},
   "source": [
    "__Create GitHub Profile__\n",
    "1. Go to https://github.com/\n",
    "2. Create your profile with sign up\n",
    "3. Create a Github public repo and name it LetsUpgrade AI/ML\n",
    "\n",
    "__How to submit Assignments?__\n",
    "\n",
    "1. Upload the files/solution in the repository in day wise manner.\n",
    "2. Copy the URL of the Folder of that day and paste in the Assignment Submission Form (Google Form)\n",
    "3. Make sure you are filling correct details in the Assignment Submission Form."
   ]
  }
 ],
 "metadata": {
  "kernelspec": {
   "display_name": "Python 3",
   "language": "python",
   "name": "python3"
  },
  "language_info": {
   "codemirror_mode": {
    "name": "ipython",
    "version": 3
   },
   "file_extension": ".py",
   "mimetype": "text/x-python",
   "name": "python",
   "nbconvert_exporter": "python",
   "pygments_lexer": "ipython3",
   "version": "3.7.6"
  }
 },
 "nbformat": 4,
 "nbformat_minor": 4
}

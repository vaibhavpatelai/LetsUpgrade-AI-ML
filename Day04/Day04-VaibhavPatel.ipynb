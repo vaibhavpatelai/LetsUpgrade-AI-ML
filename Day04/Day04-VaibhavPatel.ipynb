{
 "cells": [
  {
   "cell_type": "markdown",
   "metadata": {},
   "source": [
    "# Assignment Day 4 | 9th July 2020"
   ]
  },
  {
   "cell_type": "markdown",
   "metadata": {},
   "source": [
    "__Question 1 :__\n",
    "Research on whether addition, subtraction, multiplication, division, floor division and modulo operations be performed on complex numbers. Based on your study, implement a Python program to demonstrate these operations."
   ]
  },
  {
   "cell_type": "code",
   "execution_count": null,
   "metadata": {},
   "outputs": [],
   "source": [
    "#program to perform operations on complex numbers\n",
    "x = 9+5j #assigning complex number to varible x\n",
    "y = 4+7j #assigning complex number to varible y\n",
    "\n",
    "#Addition operation on compledx numbers\n",
    "print(\"Addition:\",x+y)\n",
    "\n",
    "#Subtraction operation on compledx numbers\n",
    "print(\"Subtraction:\",x-y)\n",
    "\n",
    "#Multiplication operation on compledx numbers\n",
    "print(\"Multiplication:\",x*y)\n",
    "\n",
    "#Division operation on compledx numbers\n",
    "print(\"Division:\",x/y)\n",
    "\n",
    "print(\"Floor Division operation can not apply complex numbers\")\n",
    "print(\"Modulo operation can not apply complex numbers\")\n",
    "\n"
   ]
  },
  {
   "cell_type": "markdown",
   "metadata": {},
   "source": [
    "__Question 2 :__\n",
    "Research on range() functions and its parameters. Create a markdown cell and write in your own words (no copy-paste from google please) what you understand about it. Implement a small program of your choice on the same."
   ]
  },
  {
   "cell_type": "markdown",
   "metadata": {},
   "source": [
    "__range():__\n",
    "    range() is in-built function which is used to perfrom the action number of times. In simple words, you can say that range() is used to generate the sequence of the integer number. \n",
    "    It starts by default from the 0 and give the increment od the one by default. You can change the starting of the sequence and increment of the sequence.\n",
    "    \n",
    "    Syntax:\n",
    "    range(start,stop,step)\n",
    "    Start: to start sequence from. It is optional. Default 0.\n",
    "    Stop: to stop the sequence before given number. It is reuired.\n",
    "    Step: to increment the number of steps. It is optional."
   ]
  },
  {
   "cell_type": "code",
   "execution_count": null,
   "metadata": {},
   "outputs": [],
   "source": [
    "#program to implement the range\n",
    "x=range(6) #assigning range to variable x\n",
    "print(x) #just to print range\n",
    "\n",
    "for i in x:\n",
    "    print(i) #to print sequence of the number"
   ]
  },
  {
   "cell_type": "markdown",
   "metadata": {},
   "source": [
    "__Question 3:__\n",
    "Consider two numbers. Perform their subtraction and if the result of subtraction is greater than 25, print their multiplication result else print their division result."
   ]
  },
  {
   "cell_type": "code",
   "execution_count": null,
   "metadata": {},
   "outputs": [],
   "source": [
    "#program to use if else statement\n",
    "x = 75 #assigning value to variable x\n",
    "y = 15 #assigning value to variable y\n",
    "\n",
    "z = x - y #subtraction of two numbers stored in to variable z\n",
    "\n",
    "if z >25:\n",
    "    print(x*y) #mutltiplication of two numbers\n",
    "else:\n",
    "    print(x/y) #division of two numbers\n"
   ]
  },
  {
   "cell_type": "markdown",
   "metadata": {},
   "source": [
    "__Question 4:__\n",
    "Consider a list of 10 elements of integer values. If the number in the list is divisible by 2, print the result as \"square of that number minus 2\"."
   ]
  },
  {
   "cell_type": "code",
   "execution_count": null,
   "metadata": {},
   "outputs": [],
   "source": [
    "#program to perform on conditional programming\n",
    "l = [34,93,78,50,17,29,68,23,18,94,88] #assigning list of elemnts to variable l\n",
    "for i in l: #using for loop to access elements of the loop\n",
    "    if i%2==0: #check the condition if element is divisible by 2 or not\n",
    "        x = i**2-2 #operation to square of the element and minus by 2\n",
    "        print(x)"
   ]
  },
  {
   "cell_type": "markdown",
   "metadata": {},
   "source": [
    "__Question 5:__\n",
    "Consider a list of 10 elements. Print all the elements in the list which are greater than 7 when that number is divided 2."
   ]
  },
  {
   "cell_type": "code",
   "execution_count": null,
   "metadata": {},
   "outputs": [],
   "source": [
    "l = [34,93,78,50,14,29,68,23,18,94,88] #assigning list of elemnts to variable l\n",
    "for i in l: #for loop access each element of the list\n",
    "    i=i/2 #dividing element by 2\n",
    "    if i>7: #condition to check divided element is greater than 7\n",
    "        print(i) #print the element"
   ]
  }
 ],
 "metadata": {
  "kernelspec": {
   "display_name": "Python 3",
   "language": "python",
   "name": "python3"
  },
  "language_info": {
   "codemirror_mode": {
    "name": "ipython",
    "version": 3
   },
   "file_extension": ".py",
   "mimetype": "text/x-python",
   "name": "python",
   "nbconvert_exporter": "python",
   "pygments_lexer": "ipython3",
   "version": "3.7.6"
  }
 },
 "nbformat": 4,
 "nbformat_minor": 4
}
